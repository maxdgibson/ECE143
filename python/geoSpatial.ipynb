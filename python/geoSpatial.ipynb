{
 "cells": [
  {
   "cell_type": "code",
   "execution_count": null,
   "metadata": {},
   "outputs": [],
   "source": [
    "import pandas as pd\n",
    "import climateFunctions as clf\n",
    "import matplotlib.pyplot as plt\n",
    "import importlib"
   ]
  },
  {
   "cell_type": "code",
   "execution_count": null,
   "metadata": {},
   "outputs": [],
   "source": [
    "importlib.reload(clf)\n",
    "migration_dataset = \"C:/Users/ashwi/Desktop/Ashwin/UCSD/Quarters/FA24/ECE143/project/dataset/migration/NABBP_2023_grp_03.csv\"\n",
    "world_shape = \"C:/Users/ashwi/Desktop/Ashwin/UCSD/Quarters/FA24/ECE143/project/dataset/geodata/110m_cultural.zip\"\n",
    "species_id = [1723]\n",
    "tracking_month = 9\n",
    "year_range = [1960, 2023]\n",
    "year_step = 5"
   ]
  },
  {
   "cell_type": "code",
   "execution_count": null,
   "metadata": {},
   "outputs": [],
   "source": [
    "df = pd.read_csv(migration_dataset)\n",
    "month_migration = clf.getMonthLocationOverYears(df, species_id, tracking_month, year_range, year_step)"
   ]
  },
  {
   "cell_type": "code",
   "execution_count": null,
   "metadata": {},
   "outputs": [],
   "source": [
    "yearly_centroids = clf.calcCentroidPerYear(month_migration)"
   ]
  },
  {
   "cell_type": "code",
   "execution_count": null,
   "metadata": {},
   "outputs": [],
   "source": [
    "clf.plotCentroids(world_shape, yearly_centroids)"
   ]
  },
  {
   "cell_type": "code",
   "execution_count": null,
   "metadata": {},
   "outputs": [],
   "source": [
    "plt.figure(figsize=(12, 6))\n",
    "for index, centroid in yearly_centroids.iterrows():\n",
    "    plt.plot(yearly_centroids['EVENT_YEAR'], yearly_centroids['LAT_DD'])\n",
    "\n",
    "plt.title('Average Latitude Over Time')\n",
    "plt.xlabel('Year')\n",
    "plt.ylabel('Centroid Latitude')\n",
    "plt.legend()\n",
    "plt.grid(True)\n",
    "plt.show()\n",
    "\n",
    "plt.figure(figsize=(12, 6))\n",
    "plt.plot(yearly_centroids['LON_DD'], yearly_centroids['EVENT_YEAR'])\n",
    "\n",
    "plt.title('Average Longitude Over Time')\n",
    "plt.xlabel('Year')\n",
    "plt.ylabel('Centroid Longitude')\n",
    "plt.legend()\n",
    "plt.grid(True)\n",
    "plt.show()"
   ]
  }
 ],
 "metadata": {
  "kernelspec": {
   "display_name": "Python 3",
   "language": "python",
   "name": "python3"
  },
  "language_info": {
   "codemirror_mode": {
    "name": "ipython",
    "version": 3
   },
   "file_extension": ".py",
   "mimetype": "text/x-python",
   "name": "python",
   "nbconvert_exporter": "python",
   "pygments_lexer": "ipython3",
   "version": "3.12.1"
  }
 },
 "nbformat": 4,
 "nbformat_minor": 2
}
